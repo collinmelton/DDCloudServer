{
 "metadata": {
  "name": "",
  "signature": "sha256:971e19bc971a557775b055a1a62ab45d562dee1a53ee08ec35fd44c5c569e550"
 },
 "nbformat": 3,
 "nbformat_minor": 0,
 "worksheets": [
  {
   "cells": [
    {
     "cell_type": "markdown",
     "metadata": {},
     "source": [
      "ORM Test\n",
      "========\n",
      ">This notebook tests Collin's changes to the ORM package.\n",
      ">\n",
      ">*Dependencies*\n",
      "+ SQLAlchemy"
     ]
    },
    {
     "cell_type": "code",
     "collapsed": false,
     "input": [
      "#Change to base project directory\n",
      "import os\n",
      "os.chdir(\"..\")"
     ],
     "language": "python",
     "metadata": {},
     "outputs": [],
     "prompt_number": 1
    },
    {
     "cell_type": "code",
     "collapsed": false,
     "input": [
      "#load main ORM package\n",
      "from ORM.Mappers import orm, Cancer, CancerSynonym, DataSource,Drug, DrugSynonym, CancerSynonymDatasourceLink, DrugSynonymDatasourceLink"
     ],
     "language": "python",
     "metadata": {},
     "outputs": [],
     "prompt_number": 7
    },
    {
     "cell_type": "markdown",
     "metadata": {},
     "source": [
      "###Create cancer and synonym objects\n",
      "*See Cancer.py in ORM.Mappers for object definitions*\n"
     ]
    },
    {
     "cell_type": "code",
     "collapsed": false,
     "input": [
      "s1 = CancerSynonym(synonym=\"skin cancer\")\n",
      "c1 = Cancer(name=\"melanoma\")\n"
     ],
     "language": "python",
     "metadata": {},
     "outputs": [],
     "prompt_number": 8
    },
    {
     "cell_type": "markdown",
     "metadata": {},
     "source": [
      "###Next, link the synonym to cancer"
     ]
    },
    {
     "cell_type": "code",
     "collapsed": false,
     "input": [
      "c1.synonyms.append(s1)\n",
      "\n",
      "#Alternatively, could also link from synonym to cancer: s1.cancer = c1"
     ],
     "language": "python",
     "metadata": {},
     "outputs": [],
     "prompt_number": 9
    },
    {
     "cell_type": "markdown",
     "metadata": {},
     "source": [
      "###Note that s1 now has its cancer field populated"
     ]
    },
    {
     "cell_type": "code",
     "collapsed": false,
     "input": [
      "#Cancer object\n",
      "s1.cancer\n",
      "\n",
      "#Can be used as any ordinary Python object\n",
      "print \"Cancer for synonym 1: %s\" % s1.cancer.name"
     ],
     "language": "python",
     "metadata": {},
     "outputs": [
      {
       "output_type": "stream",
       "stream": "stdout",
       "text": [
        "Cancer for synonym 1: melanoma\n"
       ]
      }
     ],
     "prompt_number": 10
    },
    {
     "cell_type": "markdown",
     "metadata": {},
     "source": [
      "###Create another synonym for melanoma"
     ]
    },
    {
     "cell_type": "code",
     "collapsed": false,
     "input": [
      "s2 = CancerSynonym(synonym=\"another synonym\", cancer=c1)"
     ],
     "language": "python",
     "metadata": {},
     "outputs": [],
     "prompt_number": 11
    },
    {
     "cell_type": "markdown",
     "metadata": {},
     "source": [
      "###Note that c1 now has an additional synonym"
     ]
    },
    {
     "cell_type": "code",
     "collapsed": false,
     "input": [
      "for synonym in c1.synonyms:\n",
      "    print synonym.synonym"
     ],
     "language": "python",
     "metadata": {},
     "outputs": [
      {
       "output_type": "stream",
       "stream": "stdout",
       "text": [
        "skin cancer\n",
        "another synonym\n"
       ]
      }
     ],
     "prompt_number": 12
    },
    {
     "cell_type": "markdown",
     "metadata": {},
     "source": [
      "###Link the synonyms to datasources"
     ]
    },
    {
     "cell_type": "code",
     "collapsed": false,
     "input": [
      "ds1 = DataSource(\"test data source\", \"NCI\", \"\", \"test_filename\", version=None)\n",
      "\n",
      "for synonym in c1.synonyms:\n",
      "    synonym.datasources.append(ds1)\n",
      "    \n",
      "s3 = CancerSynonym(synonym=\"yet another synonym\", cancer=c1, data_sources=[ds1])"
     ],
     "language": "python",
     "metadata": {},
     "outputs": [],
     "prompt_number": 13
    },
    {
     "cell_type": "markdown",
     "metadata": {},
     "source": [
      "###Now synonyms have a datasource."
     ]
    },
    {
     "cell_type": "code",
     "collapsed": false,
     "input": [
      "for synonym in c1.synonyms:\n",
      "    for ds in synonym.datasources:\n",
      "        print \"|\".join([c1.name, synonym.synonym, ds.name])"
     ],
     "language": "python",
     "metadata": {},
     "outputs": [
      {
       "output_type": "stream",
       "stream": "stdout",
       "text": [
        "melanoma|skin cancer|test data source\n",
        "melanoma|another synonym|test data source\n",
        "melanoma|yet another synonym|test data source\n"
       ]
      }
     ],
     "prompt_number": 14
    },
    {
     "cell_type": "markdown",
     "metadata": {},
     "source": [
      "###Create a drug, drug synonym, and datasource"
     ]
    },
    {
     "cell_type": "code",
     "collapsed": false,
     "input": [
      "ds1 = DataSource(\"test drug datasource\", \"NCI\", \"\", \"test_filename\", version=None)\n",
      "d1 = Drug(\"Vemurafenib\")\n",
      "dsyn1 = DrugSynonym(\"Vem\", drug=d1, data_sources=[ds1])\n",
      "\n",
      "for s in d1.synonyms:\n",
      "    for ds in s.datasources:\n",
      "        print \"|\".join([d1.name, s.synonym, ds.name])"
     ],
     "language": "python",
     "metadata": {},
     "outputs": [
      {
       "output_type": "stream",
       "stream": "stdout",
       "text": [
        "Vemurafenib|Vem|test drug datasource\n"
       ]
      }
     ],
     "prompt_number": 15
    },
    {
     "cell_type": "markdown",
     "metadata": {},
     "source": [
      "##Automagically create Cancer and Cancer Synonym object-relations "
     ]
    },
    {
     "cell_type": "code",
     "collapsed": false,
     "input": [
      "orm.Base.metadata.create_all()"
     ],
     "language": "python",
     "metadata": {},
     "outputs": [
      {
       "output_type": "stream",
       "stream": "stdout",
       "text": [
        "2014-08-28 12:15:26,878 INFO sqlalchemy.engine.base.Engine SELECT CAST('test plain returns' AS VARCHAR(60)) AS anon_1\n"
       ]
      },
      {
       "output_type": "stream",
       "stream": "stderr",
       "text": [
        "INFO:sqlalchemy.engine.base.Engine:SELECT CAST('test plain returns' AS VARCHAR(60)) AS anon_1\n"
       ]
      },
      {
       "output_type": "stream",
       "stream": "stdout",
       "text": [
        "2014-08-28 12:15:26,879 INFO sqlalchemy.engine.base.Engine ()\n"
       ]
      },
      {
       "output_type": "stream",
       "stream": "stderr",
       "text": [
        "INFO:sqlalchemy.engine.base.Engine:()\n"
       ]
      },
      {
       "output_type": "stream",
       "stream": "stdout",
       "text": [
        "2014-08-28 12:15:26,880 INFO sqlalchemy.engine.base.Engine SELECT CAST('test unicode returns' AS VARCHAR(60)) AS anon_1\n"
       ]
      },
      {
       "output_type": "stream",
       "stream": "stderr",
       "text": [
        "INFO:sqlalchemy.engine.base.Engine:SELECT CAST('test unicode returns' AS VARCHAR(60)) AS anon_1\n"
       ]
      },
      {
       "output_type": "stream",
       "stream": "stdout",
       "text": [
        "2014-08-28 12:15:26,881 INFO sqlalchemy.engine.base.Engine ()\n"
       ]
      },
      {
       "output_type": "stream",
       "stream": "stderr",
       "text": [
        "INFO:sqlalchemy.engine.base.Engine:()\n"
       ]
      },
      {
       "output_type": "stream",
       "stream": "stdout",
       "text": [
        "2014-08-28 12:15:26,882 INFO sqlalchemy.engine.base.Engine PRAGMA table_info(\"cancer\")\n"
       ]
      },
      {
       "output_type": "stream",
       "stream": "stderr",
       "text": [
        "INFO:sqlalchemy.engine.base.Engine:PRAGMA table_info(\"cancer\")\n"
       ]
      },
      {
       "output_type": "stream",
       "stream": "stdout",
       "text": [
        "2014-08-28 12:15:26,883 INFO sqlalchemy.engine.base.Engine ()\n"
       ]
      },
      {
       "output_type": "stream",
       "stream": "stderr",
       "text": [
        "INFO:sqlalchemy.engine.base.Engine:()\n"
       ]
      },
      {
       "output_type": "stream",
       "stream": "stdout",
       "text": [
        "2014-08-28 12:15:26,884 INFO sqlalchemy.engine.base.Engine PRAGMA table_info(\"version\")\n"
       ]
      },
      {
       "output_type": "stream",
       "stream": "stderr",
       "text": [
        "INFO:sqlalchemy.engine.base.Engine:PRAGMA table_info(\"version\")\n"
       ]
      },
      {
       "output_type": "stream",
       "stream": "stdout",
       "text": [
        "2014-08-28 12:15:26,884 INFO sqlalchemy.engine.base.Engine ()\n"
       ]
      },
      {
       "output_type": "stream",
       "stream": "stderr",
       "text": [
        "INFO:sqlalchemy.engine.base.Engine:()\n"
       ]
      },
      {
       "output_type": "stream",
       "stream": "stdout",
       "text": [
        "2014-08-28 12:15:26,885 INFO sqlalchemy.engine.base.Engine PRAGMA table_info(\"drug\")\n"
       ]
      },
      {
       "output_type": "stream",
       "stream": "stderr",
       "text": [
        "INFO:sqlalchemy.engine.base.Engine:PRAGMA table_info(\"drug\")\n"
       ]
      },
      {
       "output_type": "stream",
       "stream": "stdout",
       "text": [
        "2014-08-28 12:15:26,885 INFO sqlalchemy.engine.base.Engine ()\n"
       ]
      },
      {
       "output_type": "stream",
       "stream": "stderr",
       "text": [
        "INFO:sqlalchemy.engine.base.Engine:()\n"
       ]
      },
      {
       "output_type": "stream",
       "stream": "stdout",
       "text": [
        "2014-08-28 12:15:26,886 INFO sqlalchemy.engine.base.Engine PRAGMA table_info(\"drugbank\")\n"
       ]
      },
      {
       "output_type": "stream",
       "stream": "stderr",
       "text": [
        "INFO:sqlalchemy.engine.base.Engine:PRAGMA table_info(\"drugbank\")\n"
       ]
      },
      {
       "output_type": "stream",
       "stream": "stdout",
       "text": [
        "2014-08-28 12:15:26,886 INFO sqlalchemy.engine.base.Engine ()\n"
       ]
      },
      {
       "output_type": "stream",
       "stream": "stderr",
       "text": [
        "INFO:sqlalchemy.engine.base.Engine:()\n"
       ]
      },
      {
       "output_type": "stream",
       "stream": "stdout",
       "text": [
        "2014-08-28 12:15:26,887 INFO sqlalchemy.engine.base.Engine PRAGMA table_info(\"drugsynonym\")\n"
       ]
      },
      {
       "output_type": "stream",
       "stream": "stderr",
       "text": [
        "INFO:sqlalchemy.engine.base.Engine:PRAGMA table_info(\"drugsynonym\")\n"
       ]
      },
      {
       "output_type": "stream",
       "stream": "stdout",
       "text": [
        "2014-08-28 12:15:26,887 INFO sqlalchemy.engine.base.Engine ()\n"
       ]
      },
      {
       "output_type": "stream",
       "stream": "stderr",
       "text": [
        "INFO:sqlalchemy.engine.base.Engine:()\n"
       ]
      },
      {
       "output_type": "stream",
       "stream": "stdout",
       "text": [
        "2014-08-28 12:15:26,888 INFO sqlalchemy.engine.base.Engine PRAGMA table_info(\"cancersynonym\")\n"
       ]
      },
      {
       "output_type": "stream",
       "stream": "stderr",
       "text": [
        "INFO:sqlalchemy.engine.base.Engine:PRAGMA table_info(\"cancersynonym\")\n"
       ]
      },
      {
       "output_type": "stream",
       "stream": "stdout",
       "text": [
        "2014-08-28 12:15:26,889 INFO sqlalchemy.engine.base.Engine ()\n"
       ]
      },
      {
       "output_type": "stream",
       "stream": "stderr",
       "text": [
        "INFO:sqlalchemy.engine.base.Engine:()\n"
       ]
      },
      {
       "output_type": "stream",
       "stream": "stdout",
       "text": [
        "2014-08-28 12:15:26,889 INFO sqlalchemy.engine.base.Engine PRAGMA table_info(\"datasource\")\n"
       ]
      },
      {
       "output_type": "stream",
       "stream": "stderr",
       "text": [
        "INFO:sqlalchemy.engine.base.Engine:PRAGMA table_info(\"datasource\")\n"
       ]
      },
      {
       "output_type": "stream",
       "stream": "stdout",
       "text": [
        "2014-08-28 12:15:26,890 INFO sqlalchemy.engine.base.Engine ()\n"
       ]
      },
      {
       "output_type": "stream",
       "stream": "stderr",
       "text": [
        "INFO:sqlalchemy.engine.base.Engine:()\n"
       ]
      },
      {
       "output_type": "stream",
       "stream": "stdout",
       "text": [
        "2014-08-28 12:15:26,890 INFO sqlalchemy.engine.base.Engine PRAGMA table_info(\"cancersynonymdatasourcelink\")\n"
       ]
      },
      {
       "output_type": "stream",
       "stream": "stderr",
       "text": [
        "INFO:sqlalchemy.engine.base.Engine:PRAGMA table_info(\"cancersynonymdatasourcelink\")\n"
       ]
      },
      {
       "output_type": "stream",
       "stream": "stdout",
       "text": [
        "2014-08-28 12:15:26,891 INFO sqlalchemy.engine.base.Engine ()\n"
       ]
      },
      {
       "output_type": "stream",
       "stream": "stderr",
       "text": [
        "INFO:sqlalchemy.engine.base.Engine:()\n"
       ]
      },
      {
       "output_type": "stream",
       "stream": "stdout",
       "text": [
        "2014-08-28 12:15:26,891 INFO sqlalchemy.engine.base.Engine PRAGMA table_info(\"drugsynonymdatasourcelink\")\n"
       ]
      },
      {
       "output_type": "stream",
       "stream": "stderr",
       "text": [
        "INFO:sqlalchemy.engine.base.Engine:PRAGMA table_info(\"drugsynonymdatasourcelink\")\n"
       ]
      },
      {
       "output_type": "stream",
       "stream": "stdout",
       "text": [
        "2014-08-28 12:15:26,892 INFO sqlalchemy.engine.base.Engine ()\n"
       ]
      },
      {
       "output_type": "stream",
       "stream": "stderr",
       "text": [
        "INFO:sqlalchemy.engine.base.Engine:()\n"
       ]
      },
      {
       "output_type": "stream",
       "stream": "stdout",
       "text": [
        "2014-08-28 12:15:26,893 INFO sqlalchemy.engine.base.Engine \n",
        "CREATE TABLE version (\n",
        "\tcreated_at DATETIME, \n",
        "\tid INTEGER NOT NULL, \n",
        "\twhatsnew VARCHAR, \n",
        "\tdate DATETIME, \n",
        "\tPRIMARY KEY (id)\n",
        ")\n",
        "\n",
        "\n"
       ]
      },
      {
       "output_type": "stream",
       "stream": "stderr",
       "text": [
        "INFO:sqlalchemy.engine.base.Engine:\n",
        "CREATE TABLE version (\n",
        "\tcreated_at DATETIME, \n",
        "\tid INTEGER NOT NULL, \n",
        "\twhatsnew VARCHAR, \n",
        "\tdate DATETIME, \n",
        "\tPRIMARY KEY (id)\n",
        ")\n",
        "\n",
        "\n"
       ]
      },
      {
       "output_type": "stream",
       "stream": "stdout",
       "text": [
        "2014-08-28 12:15:26,893 INFO sqlalchemy.engine.base.Engine ()\n"
       ]
      },
      {
       "output_type": "stream",
       "stream": "stderr",
       "text": [
        "INFO:sqlalchemy.engine.base.Engine:()\n"
       ]
      },
      {
       "output_type": "stream",
       "stream": "stdout",
       "text": [
        "2014-08-28 12:15:26,896 INFO sqlalchemy.engine.base.Engine COMMIT\n"
       ]
      },
      {
       "output_type": "stream",
       "stream": "stderr",
       "text": [
        "INFO:sqlalchemy.engine.base.Engine:COMMIT\n"
       ]
      },
      {
       "output_type": "stream",
       "stream": "stdout",
       "text": [
        "2014-08-28 12:15:26,897 INFO sqlalchemy.engine.base.Engine \n",
        "CREATE TABLE drugsynonym (\n",
        "\tcreated_at DATETIME, \n",
        "\tid INTEGER NOT NULL, \n",
        "\tsynonym VARCHAR, \n",
        "\tdrug_id INTEGER, \n",
        "\tPRIMARY KEY (id), \n",
        "\tFOREIGN KEY(drug_id) REFERENCES drug (id)\n",
        ")\n",
        "\n",
        "\n"
       ]
      },
      {
       "output_type": "stream",
       "stream": "stderr",
       "text": [
        "INFO:sqlalchemy.engine.base.Engine:\n",
        "CREATE TABLE drugsynonym (\n",
        "\tcreated_at DATETIME, \n",
        "\tid INTEGER NOT NULL, \n",
        "\tsynonym VARCHAR, \n",
        "\tdrug_id INTEGER, \n",
        "\tPRIMARY KEY (id), \n",
        "\tFOREIGN KEY(drug_id) REFERENCES drug (id)\n",
        ")\n",
        "\n",
        "\n"
       ]
      },
      {
       "output_type": "stream",
       "stream": "stdout",
       "text": [
        "2014-08-28 12:15:26,898 INFO sqlalchemy.engine.base.Engine ()\n"
       ]
      },
      {
       "output_type": "stream",
       "stream": "stderr",
       "text": [
        "INFO:sqlalchemy.engine.base.Engine:()\n"
       ]
      },
      {
       "output_type": "stream",
       "stream": "stdout",
       "text": [
        "2014-08-28 12:15:26,899 INFO sqlalchemy.engine.base.Engine COMMIT\n"
       ]
      },
      {
       "output_type": "stream",
       "stream": "stderr",
       "text": [
        "INFO:sqlalchemy.engine.base.Engine:COMMIT\n"
       ]
      },
      {
       "output_type": "stream",
       "stream": "stdout",
       "text": [
        "2014-08-28 12:15:26,900 INFO sqlalchemy.engine.base.Engine \n",
        "CREATE TABLE cancersynonym (\n",
        "\tcreated_at DATETIME, \n",
        "\tid INTEGER NOT NULL, \n",
        "\tsynonym VARCHAR, \n",
        "\tcancer_id INTEGER, \n",
        "\tPRIMARY KEY (id), \n",
        "\tFOREIGN KEY(cancer_id) REFERENCES cancer (id)\n",
        ")\n",
        "\n",
        "\n"
       ]
      },
      {
       "output_type": "stream",
       "stream": "stderr",
       "text": [
        "INFO:sqlalchemy.engine.base.Engine:\n",
        "CREATE TABLE cancersynonym (\n",
        "\tcreated_at DATETIME, \n",
        "\tid INTEGER NOT NULL, \n",
        "\tsynonym VARCHAR, \n",
        "\tcancer_id INTEGER, \n",
        "\tPRIMARY KEY (id), \n",
        "\tFOREIGN KEY(cancer_id) REFERENCES cancer (id)\n",
        ")\n",
        "\n",
        "\n"
       ]
      },
      {
       "output_type": "stream",
       "stream": "stdout",
       "text": [
        "2014-08-28 12:15:26,900 INFO sqlalchemy.engine.base.Engine ()\n"
       ]
      },
      {
       "output_type": "stream",
       "stream": "stderr",
       "text": [
        "INFO:sqlalchemy.engine.base.Engine:()\n"
       ]
      },
      {
       "output_type": "stream",
       "stream": "stdout",
       "text": [
        "2014-08-28 12:15:26,901 INFO sqlalchemy.engine.base.Engine COMMIT\n"
       ]
      },
      {
       "output_type": "stream",
       "stream": "stderr",
       "text": [
        "INFO:sqlalchemy.engine.base.Engine:COMMIT\n"
       ]
      },
      {
       "output_type": "stream",
       "stream": "stdout",
       "text": [
        "2014-08-28 12:15:26,903 INFO sqlalchemy.engine.base.Engine \n",
        "CREATE TABLE datasource (\n",
        "\tcreated_at DATETIME, \n",
        "\tid INTEGER NOT NULL, \n",
        "\tname VARCHAR, \n",
        "\tauthors VARCHAR, \n",
        "\tadditional_info VARCHAR, \n",
        "\tfilename VARCHAR, \n",
        "\tversion_id INTEGER, \n",
        "\tPRIMARY KEY (id), \n",
        "\tFOREIGN KEY(version_id) REFERENCES version (id)\n",
        ")\n",
        "\n",
        "\n"
       ]
      },
      {
       "output_type": "stream",
       "stream": "stderr",
       "text": [
        "INFO:sqlalchemy.engine.base.Engine:\n",
        "CREATE TABLE datasource (\n",
        "\tcreated_at DATETIME, \n",
        "\tid INTEGER NOT NULL, \n",
        "\tname VARCHAR, \n",
        "\tauthors VARCHAR, \n",
        "\tadditional_info VARCHAR, \n",
        "\tfilename VARCHAR, \n",
        "\tversion_id INTEGER, \n",
        "\tPRIMARY KEY (id), \n",
        "\tFOREIGN KEY(version_id) REFERENCES version (id)\n",
        ")\n",
        "\n",
        "\n"
       ]
      },
      {
       "output_type": "stream",
       "stream": "stdout",
       "text": [
        "2014-08-28 12:15:26,903 INFO sqlalchemy.engine.base.Engine ()\n"
       ]
      },
      {
       "output_type": "stream",
       "stream": "stderr",
       "text": [
        "INFO:sqlalchemy.engine.base.Engine:()\n"
       ]
      },
      {
       "output_type": "stream",
       "stream": "stdout",
       "text": [
        "2014-08-28 12:15:26,905 INFO sqlalchemy.engine.base.Engine COMMIT\n"
       ]
      },
      {
       "output_type": "stream",
       "stream": "stderr",
       "text": [
        "INFO:sqlalchemy.engine.base.Engine:COMMIT\n"
       ]
      },
      {
       "output_type": "stream",
       "stream": "stdout",
       "text": [
        "2014-08-28 12:15:26,906 INFO sqlalchemy.engine.base.Engine \n",
        "CREATE TABLE cancersynonymdatasourcelink (\n",
        "\tcreated_at DATETIME, \n",
        "\tcancersynonym_id INTEGER NOT NULL, \n",
        "\tdatasource_id INTEGER NOT NULL, \n",
        "\tPRIMARY KEY (cancersynonym_id, datasource_id), \n",
        "\tFOREIGN KEY(cancersynonym_id) REFERENCES cancersynonym (id), \n",
        "\tFOREIGN KEY(datasource_id) REFERENCES datasource (id)\n",
        ")\n",
        "\n",
        "\n"
       ]
      },
      {
       "output_type": "stream",
       "stream": "stderr",
       "text": [
        "INFO:sqlalchemy.engine.base.Engine:\n",
        "CREATE TABLE cancersynonymdatasourcelink (\n",
        "\tcreated_at DATETIME, \n",
        "\tcancersynonym_id INTEGER NOT NULL, \n",
        "\tdatasource_id INTEGER NOT NULL, \n",
        "\tPRIMARY KEY (cancersynonym_id, datasource_id), \n",
        "\tFOREIGN KEY(cancersynonym_id) REFERENCES cancersynonym (id), \n",
        "\tFOREIGN KEY(datasource_id) REFERENCES datasource (id)\n",
        ")\n",
        "\n",
        "\n"
       ]
      },
      {
       "output_type": "stream",
       "stream": "stdout",
       "text": [
        "2014-08-28 12:15:26,906 INFO sqlalchemy.engine.base.Engine ()\n"
       ]
      },
      {
       "output_type": "stream",
       "stream": "stderr",
       "text": [
        "INFO:sqlalchemy.engine.base.Engine:()\n"
       ]
      },
      {
       "output_type": "stream",
       "stream": "stdout",
       "text": [
        "2014-08-28 12:15:26,907 INFO sqlalchemy.engine.base.Engine COMMIT\n"
       ]
      },
      {
       "output_type": "stream",
       "stream": "stderr",
       "text": [
        "INFO:sqlalchemy.engine.base.Engine:COMMIT\n"
       ]
      },
      {
       "output_type": "stream",
       "stream": "stdout",
       "text": [
        "2014-08-28 12:15:26,908 INFO sqlalchemy.engine.base.Engine \n",
        "CREATE TABLE drugsynonymdatasourcelink (\n",
        "\tcreated_at DATETIME, \n",
        "\tdrugsynonym_id INTEGER NOT NULL, \n",
        "\tdatasource_id INTEGER NOT NULL, \n",
        "\tPRIMARY KEY (drugsynonym_id, datasource_id), \n",
        "\tFOREIGN KEY(drugsynonym_id) REFERENCES drugsynonym (id), \n",
        "\tFOREIGN KEY(datasource_id) REFERENCES datasource (id)\n",
        ")\n",
        "\n",
        "\n"
       ]
      },
      {
       "output_type": "stream",
       "stream": "stderr",
       "text": [
        "INFO:sqlalchemy.engine.base.Engine:\n",
        "CREATE TABLE drugsynonymdatasourcelink (\n",
        "\tcreated_at DATETIME, \n",
        "\tdrugsynonym_id INTEGER NOT NULL, \n",
        "\tdatasource_id INTEGER NOT NULL, \n",
        "\tPRIMARY KEY (drugsynonym_id, datasource_id), \n",
        "\tFOREIGN KEY(drugsynonym_id) REFERENCES drugsynonym (id), \n",
        "\tFOREIGN KEY(datasource_id) REFERENCES datasource (id)\n",
        ")\n",
        "\n",
        "\n"
       ]
      },
      {
       "output_type": "stream",
       "stream": "stdout",
       "text": [
        "2014-08-28 12:15:26,909 INFO sqlalchemy.engine.base.Engine ()\n"
       ]
      },
      {
       "output_type": "stream",
       "stream": "stderr",
       "text": [
        "INFO:sqlalchemy.engine.base.Engine:()\n"
       ]
      },
      {
       "output_type": "stream",
       "stream": "stdout",
       "text": [
        "2014-08-28 12:15:26,910 INFO sqlalchemy.engine.base.Engine COMMIT\n"
       ]
      },
      {
       "output_type": "stream",
       "stream": "stderr",
       "text": [
        "INFO:sqlalchemy.engine.base.Engine:COMMIT\n"
       ]
      }
     ],
     "prompt_number": 16
    },
    {
     "cell_type": "markdown",
     "metadata": {},
     "source": [
      "###Create a SQLAlchemy Session (a connection to a database)\n",
      ">We interact with the database through a session.\n",
      ">We can add rows, query, and perform all the normal database operations through a session."
     ]
    },
    {
     "cell_type": "code",
     "collapsed": false,
     "input": [
      "session = orm.loadSession()"
     ],
     "language": "python",
     "metadata": {},
     "outputs": [],
     "prompt_number": 17
    },
    {
     "cell_type": "markdown",
     "metadata": {},
     "source": [
      "###Adding instances (rows) to a table requires two steps: adding to a session and committing"
     ]
    },
    {
     "cell_type": "code",
     "collapsed": false,
     "input": [
      "session.add(c1)\n",
      "session.commit()"
     ],
     "language": "python",
     "metadata": {},
     "outputs": [
      {
       "output_type": "stream",
       "stream": "stdout",
       "text": [
        "2014-08-28 12:15:36,238 INFO sqlalchemy.engine.base.Engine BEGIN (implicit)\n"
       ]
      },
      {
       "output_type": "stream",
       "stream": "stderr",
       "text": [
        "INFO:sqlalchemy.engine.base.Engine:BEGIN (implicit)\n"
       ]
      },
      {
       "output_type": "stream",
       "stream": "stdout",
       "text": [
        "2014-08-28 12:15:36,239 INFO sqlalchemy.engine.base.Engine INSERT INTO cancer (created_at, name) VALUES (CURRENT_TIMESTAMP, ?)\n"
       ]
      },
      {
       "output_type": "stream",
       "stream": "stderr",
       "text": [
        "INFO:sqlalchemy.engine.base.Engine:INSERT INTO cancer (created_at, name) VALUES (CURRENT_TIMESTAMP, ?)\n"
       ]
      },
      {
       "output_type": "stream",
       "stream": "stdout",
       "text": [
        "2014-08-28 12:15:36,240 INFO sqlalchemy.engine.base.Engine ('melanoma',)\n"
       ]
      },
      {
       "output_type": "stream",
       "stream": "stderr",
       "text": [
        "INFO:sqlalchemy.engine.base.Engine:('melanoma',)\n"
       ]
      },
      {
       "output_type": "stream",
       "stream": "stdout",
       "text": [
        "2014-08-28 12:15:36,243 INFO sqlalchemy.engine.base.Engine INSERT INTO cancersynonym (created_at, synonym, cancer_id) VALUES (CURRENT_TIMESTAMP, ?, ?)\n"
       ]
      },
      {
       "output_type": "stream",
       "stream": "stderr",
       "text": [
        "INFO:sqlalchemy.engine.base.Engine:INSERT INTO cancersynonym (created_at, synonym, cancer_id) VALUES (CURRENT_TIMESTAMP, ?, ?)\n"
       ]
      },
      {
       "output_type": "stream",
       "stream": "stdout",
       "text": [
        "2014-08-28 12:15:36,244 INFO sqlalchemy.engine.base.Engine ('skin cancer', 2)\n"
       ]
      },
      {
       "output_type": "stream",
       "stream": "stderr",
       "text": [
        "INFO:sqlalchemy.engine.base.Engine:('skin cancer', 2)\n"
       ]
      },
      {
       "output_type": "stream",
       "stream": "stdout",
       "text": [
        "2014-08-28 12:15:36,245 INFO sqlalchemy.engine.base.Engine INSERT INTO cancersynonym (created_at, synonym, cancer_id) VALUES (CURRENT_TIMESTAMP, ?, ?)\n"
       ]
      },
      {
       "output_type": "stream",
       "stream": "stderr",
       "text": [
        "INFO:sqlalchemy.engine.base.Engine:INSERT INTO cancersynonym (created_at, synonym, cancer_id) VALUES (CURRENT_TIMESTAMP, ?, ?)\n"
       ]
      },
      {
       "output_type": "stream",
       "stream": "stdout",
       "text": [
        "2014-08-28 12:15:36,246 INFO sqlalchemy.engine.base.Engine ('another synonym', 2)\n"
       ]
      },
      {
       "output_type": "stream",
       "stream": "stderr",
       "text": [
        "INFO:sqlalchemy.engine.base.Engine:('another synonym', 2)\n"
       ]
      },
      {
       "output_type": "stream",
       "stream": "stdout",
       "text": [
        "2014-08-28 12:15:36,246 INFO sqlalchemy.engine.base.Engine INSERT INTO cancersynonym (created_at, synonym, cancer_id) VALUES (CURRENT_TIMESTAMP, ?, ?)\n"
       ]
      },
      {
       "output_type": "stream",
       "stream": "stderr",
       "text": [
        "INFO:sqlalchemy.engine.base.Engine:INSERT INTO cancersynonym (created_at, synonym, cancer_id) VALUES (CURRENT_TIMESTAMP, ?, ?)\n"
       ]
      },
      {
       "output_type": "stream",
       "stream": "stdout",
       "text": [
        "2014-08-28 12:15:36,247 INFO sqlalchemy.engine.base.Engine ('yet another synonym', 2)\n"
       ]
      },
      {
       "output_type": "stream",
       "stream": "stderr",
       "text": [
        "INFO:sqlalchemy.engine.base.Engine:('yet another synonym', 2)\n"
       ]
      },
      {
       "output_type": "stream",
       "stream": "stdout",
       "text": [
        "2014-08-28 12:15:36,248 INFO sqlalchemy.engine.base.Engine INSERT INTO datasource (created_at, name, authors, additional_info, filename, version_id) VALUES (CURRENT_TIMESTAMP, ?, ?, ?, ?, ?)\n"
       ]
      },
      {
       "output_type": "stream",
       "stream": "stderr",
       "text": [
        "INFO:sqlalchemy.engine.base.Engine:INSERT INTO datasource (created_at, name, authors, additional_info, filename, version_id) VALUES (CURRENT_TIMESTAMP, ?, ?, ?, ?, ?)\n"
       ]
      },
      {
       "output_type": "stream",
       "stream": "stdout",
       "text": [
        "2014-08-28 12:15:36,249 INFO sqlalchemy.engine.base.Engine ('test data source', 'NCI', '', 'test_filename', None)\n"
       ]
      },
      {
       "output_type": "stream",
       "stream": "stderr",
       "text": [
        "INFO:sqlalchemy.engine.base.Engine:('test data source', 'NCI', '', 'test_filename', None)\n"
       ]
      },
      {
       "output_type": "stream",
       "stream": "stdout",
       "text": [
        "2014-08-28 12:15:36,250 INFO sqlalchemy.engine.base.Engine INSERT INTO cancersynonymdatasourcelink (created_at, cancersynonym_id, datasource_id) VALUES (CURRENT_TIMESTAMP, ?, ?)\n"
       ]
      },
      {
       "output_type": "stream",
       "stream": "stderr",
       "text": [
        "INFO:sqlalchemy.engine.base.Engine:INSERT INTO cancersynonymdatasourcelink (created_at, cancersynonym_id, datasource_id) VALUES (CURRENT_TIMESTAMP, ?, ?)\n"
       ]
      },
      {
       "output_type": "stream",
       "stream": "stdout",
       "text": [
        "2014-08-28 12:15:36,250 INFO sqlalchemy.engine.base.Engine ((2, 1), (3, 1), (1, 1))\n"
       ]
      },
      {
       "output_type": "stream",
       "stream": "stderr",
       "text": [
        "INFO:sqlalchemy.engine.base.Engine:((2, 1), (3, 1), (1, 1))\n"
       ]
      },
      {
       "output_type": "stream",
       "stream": "stdout",
       "text": [
        "2014-08-28 12:15:36,251 INFO sqlalchemy.engine.base.Engine COMMIT\n"
       ]
      },
      {
       "output_type": "stream",
       "stream": "stderr",
       "text": [
        "INFO:sqlalchemy.engine.base.Engine:COMMIT\n"
       ]
      }
     ],
     "prompt_number": 18
    },
    {
     "cell_type": "markdown",
     "metadata": {},
     "source": [
      "###Note that we only need to add and commit the Cancer object c1 -- the synonym objects it is linked to will automatically be stored in the Cancer Synonyms table"
     ]
    },
    {
     "cell_type": "markdown",
     "metadata": {},
     "source": [
      "####Query the cancer table"
     ]
    },
    {
     "cell_type": "code",
     "collapsed": false,
     "input": [
      "cancers = session.query(Cancer).all()"
     ],
     "language": "python",
     "metadata": {},
     "outputs": [
      {
       "output_type": "stream",
       "stream": "stdout",
       "text": [
        "2014-08-28 12:15:46,324 INFO sqlalchemy.engine.base.Engine BEGIN (implicit)\n"
       ]
      },
      {
       "output_type": "stream",
       "stream": "stderr",
       "text": [
        "INFO:sqlalchemy.engine.base.Engine:BEGIN (implicit)\n"
       ]
      },
      {
       "output_type": "stream",
       "stream": "stdout",
       "text": [
        "2014-08-28 12:15:46,325 INFO sqlalchemy.engine.base.Engine SELECT cancer.created_at AS cancer_created_at, cancer.id AS cancer_id, cancer.name AS cancer_name \n",
        "FROM cancer\n"
       ]
      },
      {
       "output_type": "stream",
       "stream": "stderr",
       "text": [
        "INFO:sqlalchemy.engine.base.Engine:SELECT cancer.created_at AS cancer_created_at, cancer.id AS cancer_id, cancer.name AS cancer_name \n",
        "FROM cancer\n"
       ]
      },
      {
       "output_type": "stream",
       "stream": "stdout",
       "text": [
        "2014-08-28 12:15:46,326 INFO sqlalchemy.engine.base.Engine ()\n"
       ]
      },
      {
       "output_type": "stream",
       "stream": "stderr",
       "text": [
        "INFO:sqlalchemy.engine.base.Engine:()\n"
       ]
      }
     ],
     "prompt_number": 19
    },
    {
     "cell_type": "code",
     "collapsed": false,
     "input": [
      "for cancer in cancers:\n",
      "    print \"Cancer: %s\" % cancer.name\n",
      "    print \"Synonyms: %s\" % ','.join([syn.synonym for syn in cancer.synonyms])"
     ],
     "language": "python",
     "metadata": {},
     "outputs": [
      {
       "output_type": "stream",
       "stream": "stdout",
       "text": [
        "Cancer: melanoma\n",
        "2014-08-28 12:16:52,031 INFO sqlalchemy.engine.base.Engine SELECT cancersynonym.created_at AS cancersynonym_created_at, cancersynonym.id AS cancersynonym_id, cancersynonym.synonym AS cancersynonym_synonym, cancersynonym.cancer_id AS cancersynonym_cancer_id \n",
        "FROM cancersynonym \n",
        "WHERE ? = cancersynonym.cancer_id\n"
       ]
      },
      {
       "output_type": "stream",
       "stream": "stderr",
       "text": [
        "INFO:sqlalchemy.engine.base.Engine:SELECT cancersynonym.created_at AS cancersynonym_created_at, cancersynonym.id AS cancersynonym_id, cancersynonym.synonym AS cancersynonym_synonym, cancersynonym.cancer_id AS cancersynonym_cancer_id \n",
        "FROM cancersynonym \n",
        "WHERE ? = cancersynonym.cancer_id\n"
       ]
      },
      {
       "output_type": "stream",
       "stream": "stdout",
       "text": [
        "2014-08-28 12:16:52,032 INFO sqlalchemy.engine.base.Engine (1,)\n"
       ]
      },
      {
       "output_type": "stream",
       "stream": "stderr",
       "text": [
        "INFO:sqlalchemy.engine.base.Engine:(1,)\n"
       ]
      },
      {
       "output_type": "stream",
       "stream": "stdout",
       "text": [
        "Synonyms: \n",
        "Cancer: melanoma\n",
        "2014-08-28 12:16:52,034 INFO sqlalchemy.engine.base.Engine SELECT cancersynonym.created_at AS cancersynonym_created_at, cancersynonym.id AS cancersynonym_id, cancersynonym.synonym AS cancersynonym_synonym, cancersynonym.cancer_id AS cancersynonym_cancer_id \n",
        "FROM cancersynonym \n",
        "WHERE ? = cancersynonym.cancer_id\n"
       ]
      },
      {
       "output_type": "stream",
       "stream": "stderr",
       "text": [
        "INFO:sqlalchemy.engine.base.Engine:SELECT cancersynonym.created_at AS cancersynonym_created_at, cancersynonym.id AS cancersynonym_id, cancersynonym.synonym AS cancersynonym_synonym, cancersynonym.cancer_id AS cancersynonym_cancer_id \n",
        "FROM cancersynonym \n",
        "WHERE ? = cancersynonym.cancer_id\n"
       ]
      },
      {
       "output_type": "stream",
       "stream": "stdout",
       "text": [
        "2014-08-28 12:16:52,034 INFO sqlalchemy.engine.base.Engine (2,)\n"
       ]
      },
      {
       "output_type": "stream",
       "stream": "stderr",
       "text": [
        "INFO:sqlalchemy.engine.base.Engine:(2,)\n"
       ]
      },
      {
       "output_type": "stream",
       "stream": "stdout",
       "text": [
        "Synonyms: skin cancer,another synonym,yet another synonym\n"
       ]
      }
     ],
     "prompt_number": 20
    },
    {
     "cell_type": "markdown",
     "metadata": {},
     "source": [
      "####Query the CancerSynonyms table"
     ]
    },
    {
     "cell_type": "code",
     "collapsed": false,
     "input": [
      "synonyms = session.query(CancerSynonym).all()\n",
      "\n",
      "for synonym in synonyms:\n",
      "    print synonym.cancer.name, synonym.synonym"
     ],
     "language": "python",
     "metadata": {},
     "outputs": [
      {
       "output_type": "stream",
       "stream": "stdout",
       "text": [
        "2014-08-28 12:17:35,190 INFO sqlalchemy.engine.base.Engine SELECT cancersynonym.created_at AS cancersynonym_created_at, cancersynonym.id AS cancersynonym_id, cancersynonym.synonym AS cancersynonym_synonym, cancersynonym.cancer_id AS cancersynonym_cancer_id \n",
        "FROM cancersynonym\n"
       ]
      },
      {
       "output_type": "stream",
       "stream": "stderr",
       "text": [
        "INFO:sqlalchemy.engine.base.Engine:SELECT cancersynonym.created_at AS cancersynonym_created_at, cancersynonym.id AS cancersynonym_id, cancersynonym.synonym AS cancersynonym_synonym, cancersynonym.cancer_id AS cancersynonym_cancer_id \n",
        "FROM cancersynonym\n"
       ]
      },
      {
       "output_type": "stream",
       "stream": "stdout",
       "text": [
        "2014-08-28 12:17:35,191 INFO sqlalchemy.engine.base.Engine ()\n"
       ]
      },
      {
       "output_type": "stream",
       "stream": "stderr",
       "text": [
        "INFO:sqlalchemy.engine.base.Engine:()\n"
       ]
      },
      {
       "output_type": "stream",
       "stream": "stdout",
       "text": [
        "melanoma skin cancer\n",
        "melanoma another synonym\n",
        "melanoma yet another synonym\n"
       ]
      }
     ],
     "prompt_number": 22
    },
    {
     "cell_type": "code",
     "collapsed": false,
     "input": [],
     "language": "python",
     "metadata": {},
     "outputs": []
    }
   ],
   "metadata": {}
  }
 ]
}