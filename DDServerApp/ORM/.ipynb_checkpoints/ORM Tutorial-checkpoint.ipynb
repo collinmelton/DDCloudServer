{
 "metadata": {
  "name": "",
  "signature": "sha256:d936f55ac388ffd5682593074869241e2695c195091838ebe47e562c37b252f7"
 },
 "nbformat": 3,
 "nbformat_minor": 0,
 "worksheets": [
  {
   "cells": [
    {
     "cell_type": "markdown",
     "metadata": {},
     "source": [
      "ORM Tutorial\n",
      "==============\n",
      ">This tutorial guides you through the process of creating Python objects which are directly linked to a database table\n",
      ">\n",
      ">*Dependencies*\n",
      "+ SQLAlchemy"
     ]
    },
    {
     "cell_type": "code",
     "collapsed": false,
     "input": [
      "#Change to base project directory and load main ORM package\n",
      "import os\n",
      "os.chdir(\"..\")\n",
      "from ORM.Mappers import orm, Cancer, CancerSynonyms"
     ],
     "language": "python",
     "metadata": {},
     "outputs": [],
     "prompt_number": 1
    },
    {
     "cell_type": "markdown",
     "metadata": {},
     "source": [
      "###Create a cancer and synonym objects\n",
      "*See Cancer.py in ORM.Mappers for object definitions*\n"
     ]
    },
    {
     "cell_type": "code",
     "collapsed": false,
     "input": [
      "c1 = Cancer(name=\"melanoma\")\n",
      "s1 = CancerSynonyms(synonym=\"skin cancer\")"
     ],
     "language": "python",
     "metadata": {},
     "outputs": [],
     "prompt_number": 2
    },
    {
     "cell_type": "markdown",
     "metadata": {},
     "source": [
      "###Next, link the synonym to cancer"
     ]
    },
    {
     "cell_type": "code",
     "collapsed": false,
     "input": [
      "c1.synonyms.append(s1)\n",
      "\n",
      "#Alternatively, could also link from synonym to cancer: s1.cancer = c1"
     ],
     "language": "python",
     "metadata": {},
     "outputs": [],
     "prompt_number": 3
    },
    {
     "cell_type": "markdown",
     "metadata": {},
     "source": [
      "###Note that s1 now has its cancer field populated"
     ]
    },
    {
     "cell_type": "code",
     "collapsed": false,
     "input": [
      "#Cancer object\n",
      "s1.cancer\n",
      "\n",
      "#Can be used as any ordinary Python object\n",
      "print \"Cancer for synonym 1: %s\" % s1.cancer.name"
     ],
     "language": "python",
     "metadata": {},
     "outputs": [
      {
       "output_type": "stream",
       "stream": "stdout",
       "text": [
        "Cancer for synonym 1: melanoma\n"
       ]
      }
     ],
     "prompt_number": 4
    },
    {
     "cell_type": "markdown",
     "metadata": {},
     "source": [
      "###Create another synonym for melanoma"
     ]
    },
    {
     "cell_type": "code",
     "collapsed": false,
     "input": [
      "s2 = CancerSynonyms(synonym=\"another synonym\", cancer=c1)"
     ],
     "language": "python",
     "metadata": {},
     "outputs": [],
     "prompt_number": 5
    },
    {
     "cell_type": "markdown",
     "metadata": {},
     "source": [
      "###Note that c1 now has an additional synonym"
     ]
    },
    {
     "cell_type": "code",
     "collapsed": false,
     "input": [
      "for synonym in c1.synonyms:\n",
      "    print synonym.synonym"
     ],
     "language": "python",
     "metadata": {},
     "outputs": [
      {
       "output_type": "stream",
       "stream": "stdout",
       "text": [
        "skin cancer\n",
        "another synonym\n"
       ]
      }
     ],
     "prompt_number": 6
    },
    {
     "cell_type": "markdown",
     "metadata": {},
     "source": [
      "##Automagically create Cancer and Cancer Synonym object-relations "
     ]
    },
    {
     "cell_type": "code",
     "collapsed": false,
     "input": [
      "orm.Base.metadata.create_all()"
     ],
     "language": "python",
     "metadata": {},
     "outputs": [
      {
       "output_type": "stream",
       "stream": "stdout",
       "text": [
        "2014-08-27 20:26:57,775 INFO sqlalchemy.engine.base.Engine SELECT CAST('test plain returns' AS VARCHAR(60)) AS anon_1\n"
       ]
      },
      {
       "output_type": "stream",
       "stream": "stderr",
       "text": [
        "INFO:sqlalchemy.engine.base.Engine:SELECT CAST('test plain returns' AS VARCHAR(60)) AS anon_1\n"
       ]
      },
      {
       "output_type": "stream",
       "stream": "stdout",
       "text": [
        "2014-08-27 20:26:57,776 INFO sqlalchemy.engine.base.Engine ()\n"
       ]
      },
      {
       "output_type": "stream",
       "stream": "stderr",
       "text": [
        "INFO:sqlalchemy.engine.base.Engine:()\n"
       ]
      },
      {
       "output_type": "stream",
       "stream": "stdout",
       "text": [
        "2014-08-27 20:26:57,777 INFO sqlalchemy.engine.base.Engine SELECT CAST('test unicode returns' AS VARCHAR(60)) AS anon_1\n"
       ]
      },
      {
       "output_type": "stream",
       "stream": "stderr",
       "text": [
        "INFO:sqlalchemy.engine.base.Engine:SELECT CAST('test unicode returns' AS VARCHAR(60)) AS anon_1\n"
       ]
      },
      {
       "output_type": "stream",
       "stream": "stdout",
       "text": [
        "2014-08-27 20:26:57,777 INFO sqlalchemy.engine.base.Engine ()\n"
       ]
      },
      {
       "output_type": "stream",
       "stream": "stderr",
       "text": [
        "INFO:sqlalchemy.engine.base.Engine:()\n"
       ]
      },
      {
       "output_type": "stream",
       "stream": "stdout",
       "text": [
        "2014-08-27 20:26:57,779 INFO sqlalchemy.engine.base.Engine PRAGMA table_info(\"drug\")\n"
       ]
      },
      {
       "output_type": "stream",
       "stream": "stderr",
       "text": [
        "INFO:sqlalchemy.engine.base.Engine:PRAGMA table_info(\"drug\")\n"
       ]
      },
      {
       "output_type": "stream",
       "stream": "stdout",
       "text": [
        "2014-08-27 20:26:57,779 INFO sqlalchemy.engine.base.Engine ()\n"
       ]
      },
      {
       "output_type": "stream",
       "stream": "stderr",
       "text": [
        "INFO:sqlalchemy.engine.base.Engine:()\n"
       ]
      },
      {
       "output_type": "stream",
       "stream": "stdout",
       "text": [
        "2014-08-27 20:26:57,780 INFO sqlalchemy.engine.base.Engine PRAGMA table_info(\"cancer\")\n"
       ]
      },
      {
       "output_type": "stream",
       "stream": "stderr",
       "text": [
        "INFO:sqlalchemy.engine.base.Engine:PRAGMA table_info(\"cancer\")\n"
       ]
      },
      {
       "output_type": "stream",
       "stream": "stdout",
       "text": [
        "2014-08-27 20:26:57,781 INFO sqlalchemy.engine.base.Engine ()\n"
       ]
      },
      {
       "output_type": "stream",
       "stream": "stderr",
       "text": [
        "INFO:sqlalchemy.engine.base.Engine:()\n"
       ]
      },
      {
       "output_type": "stream",
       "stream": "stdout",
       "text": [
        "2014-08-27 20:26:57,781 INFO sqlalchemy.engine.base.Engine PRAGMA table_info(\"drugsynonyms\")\n"
       ]
      },
      {
       "output_type": "stream",
       "stream": "stderr",
       "text": [
        "INFO:sqlalchemy.engine.base.Engine:PRAGMA table_info(\"drugsynonyms\")\n"
       ]
      },
      {
       "output_type": "stream",
       "stream": "stdout",
       "text": [
        "2014-08-27 20:26:57,782 INFO sqlalchemy.engine.base.Engine ()\n"
       ]
      },
      {
       "output_type": "stream",
       "stream": "stderr",
       "text": [
        "INFO:sqlalchemy.engine.base.Engine:()\n"
       ]
      },
      {
       "output_type": "stream",
       "stream": "stdout",
       "text": [
        "2014-08-27 20:26:57,782 INFO sqlalchemy.engine.base.Engine PRAGMA table_info(\"drugbank\")\n"
       ]
      },
      {
       "output_type": "stream",
       "stream": "stderr",
       "text": [
        "INFO:sqlalchemy.engine.base.Engine:PRAGMA table_info(\"drugbank\")\n"
       ]
      },
      {
       "output_type": "stream",
       "stream": "stdout",
       "text": [
        "2014-08-27 20:26:57,783 INFO sqlalchemy.engine.base.Engine ()\n"
       ]
      },
      {
       "output_type": "stream",
       "stream": "stderr",
       "text": [
        "INFO:sqlalchemy.engine.base.Engine:()\n"
       ]
      },
      {
       "output_type": "stream",
       "stream": "stdout",
       "text": [
        "2014-08-27 20:26:57,783 INFO sqlalchemy.engine.base.Engine PRAGMA table_info(\"cancersynonyms\")\n"
       ]
      },
      {
       "output_type": "stream",
       "stream": "stderr",
       "text": [
        "INFO:sqlalchemy.engine.base.Engine:PRAGMA table_info(\"cancersynonyms\")\n"
       ]
      },
      {
       "output_type": "stream",
       "stream": "stdout",
       "text": [
        "2014-08-27 20:26:57,784 INFO sqlalchemy.engine.base.Engine ()\n"
       ]
      },
      {
       "output_type": "stream",
       "stream": "stderr",
       "text": [
        "INFO:sqlalchemy.engine.base.Engine:()\n"
       ]
      }
     ],
     "prompt_number": 7
    },
    {
     "cell_type": "markdown",
     "metadata": {},
     "source": [
      "###Create a SQLAlchemy Session (a connection to a database)\n",
      ">We interact with the database through a session.\n",
      ">We can add rows, query, and perform all the normal database operations through a session."
     ]
    },
    {
     "cell_type": "code",
     "collapsed": false,
     "input": [
      "session = orm.loadSession()"
     ],
     "language": "python",
     "metadata": {},
     "outputs": [],
     "prompt_number": 8
    },
    {
     "cell_type": "markdown",
     "metadata": {},
     "source": [
      "###Adding instances (rows) to a table requires two steps: adding to a session and committing"
     ]
    },
    {
     "cell_type": "code",
     "collapsed": false,
     "input": [
      "session.add(c1)\n",
      "session.commit()"
     ],
     "language": "python",
     "metadata": {},
     "outputs": [
      {
       "output_type": "stream",
       "stream": "stdout",
       "text": [
        "2014-08-26 14:39:29,612 INFO sqlalchemy.engine.base.Engine BEGIN (implicit)\n"
       ]
      },
      {
       "output_type": "stream",
       "stream": "stderr",
       "text": [
        "INFO:sqlalchemy.engine.base.Engine:BEGIN (implicit)\n"
       ]
      },
      {
       "output_type": "stream",
       "stream": "stdout",
       "text": [
        "2014-08-26 14:39:29,613 INFO sqlalchemy.engine.base.Engine INSERT INTO cancer (created_at, name) VALUES (CURRENT_TIMESTAMP, ?)\n"
       ]
      },
      {
       "output_type": "stream",
       "stream": "stderr",
       "text": [
        "INFO:sqlalchemy.engine.base.Engine:INSERT INTO cancer (created_at, name) VALUES (CURRENT_TIMESTAMP, ?)\n"
       ]
      },
      {
       "output_type": "stream",
       "stream": "stdout",
       "text": [
        "2014-08-26 14:39:29,614 INFO sqlalchemy.engine.base.Engine ('melanoma',)\n"
       ]
      },
      {
       "output_type": "stream",
       "stream": "stderr",
       "text": [
        "INFO:sqlalchemy.engine.base.Engine:('melanoma',)\n"
       ]
      },
      {
       "output_type": "stream",
       "stream": "stdout",
       "text": [
        "2014-08-26 14:39:29,616 INFO sqlalchemy.engine.base.Engine INSERT INTO cancersynonyms (created_at, synonym, cancer_id) VALUES (CURRENT_TIMESTAMP, ?, ?)\n"
       ]
      },
      {
       "output_type": "stream",
       "stream": "stderr",
       "text": [
        "INFO:sqlalchemy.engine.base.Engine:INSERT INTO cancersynonyms (created_at, synonym, cancer_id) VALUES (CURRENT_TIMESTAMP, ?, ?)\n"
       ]
      },
      {
       "output_type": "stream",
       "stream": "stdout",
       "text": [
        "2014-08-26 14:39:29,617 INFO sqlalchemy.engine.base.Engine ('skin cancer', 1)\n"
       ]
      },
      {
       "output_type": "stream",
       "stream": "stderr",
       "text": [
        "INFO:sqlalchemy.engine.base.Engine:('skin cancer', 1)\n"
       ]
      },
      {
       "output_type": "stream",
       "stream": "stdout",
       "text": [
        "2014-08-26 14:39:29,618 INFO sqlalchemy.engine.base.Engine INSERT INTO cancersynonyms (created_at, synonym, cancer_id) VALUES (CURRENT_TIMESTAMP, ?, ?)\n"
       ]
      },
      {
       "output_type": "stream",
       "stream": "stderr",
       "text": [
        "INFO:sqlalchemy.engine.base.Engine:INSERT INTO cancersynonyms (created_at, synonym, cancer_id) VALUES (CURRENT_TIMESTAMP, ?, ?)\n"
       ]
      },
      {
       "output_type": "stream",
       "stream": "stdout",
       "text": [
        "2014-08-26 14:39:29,619 INFO sqlalchemy.engine.base.Engine ('another synonym', 1)\n"
       ]
      },
      {
       "output_type": "stream",
       "stream": "stderr",
       "text": [
        "INFO:sqlalchemy.engine.base.Engine:('another synonym', 1)\n"
       ]
      },
      {
       "output_type": "stream",
       "stream": "stdout",
       "text": [
        "2014-08-26 14:39:29,620 INFO sqlalchemy.engine.base.Engine COMMIT\n"
       ]
      },
      {
       "output_type": "stream",
       "stream": "stderr",
       "text": [
        "INFO:sqlalchemy.engine.base.Engine:COMMIT\n"
       ]
      }
     ],
     "prompt_number": 9
    },
    {
     "cell_type": "markdown",
     "metadata": {},
     "source": [
      "###Note that we only need to add and commit the Cancer object c1 -- the synonym objects it is linked to will automatically be stored in the Cancer Synonyms table"
     ]
    },
    {
     "cell_type": "markdown",
     "metadata": {},
     "source": [
      "####Query the cancer table"
     ]
    },
    {
     "cell_type": "code",
     "collapsed": false,
     "input": [
      "cancers = session.query(Cancer).all()"
     ],
     "language": "python",
     "metadata": {},
     "outputs": [
      {
       "output_type": "stream",
       "stream": "stdout",
       "text": [
        "2014-08-26 14:40:14,088 INFO sqlalchemy.engine.base.Engine BEGIN (implicit)\n"
       ]
      },
      {
       "output_type": "stream",
       "stream": "stderr",
       "text": [
        "INFO:sqlalchemy.engine.base.Engine:BEGIN (implicit)\n"
       ]
      },
      {
       "output_type": "stream",
       "stream": "stdout",
       "text": [
        "2014-08-26 14:40:14,089 INFO sqlalchemy.engine.base.Engine SELECT cancer.created_at AS cancer_created_at, cancer.id AS cancer_id, cancer.name AS cancer_name \n",
        "FROM cancer\n"
       ]
      },
      {
       "output_type": "stream",
       "stream": "stderr",
       "text": [
        "INFO:sqlalchemy.engine.base.Engine:SELECT cancer.created_at AS cancer_created_at, cancer.id AS cancer_id, cancer.name AS cancer_name \n",
        "FROM cancer\n"
       ]
      },
      {
       "output_type": "stream",
       "stream": "stdout",
       "text": [
        "2014-08-26 14:40:14,090 INFO sqlalchemy.engine.base.Engine ()\n"
       ]
      },
      {
       "output_type": "stream",
       "stream": "stderr",
       "text": [
        "INFO:sqlalchemy.engine.base.Engine:()\n"
       ]
      }
     ],
     "prompt_number": 10
    },
    {
     "cell_type": "code",
     "collapsed": false,
     "input": [
      "for cancer in cancers:\n",
      "    print \"Cancer: %s\" % cancer.name\n",
      "    print \"Synonyms: %s\" % ','.join([syn.synonym for syn in cancer.synonyms])"
     ],
     "language": "python",
     "metadata": {},
     "outputs": [
      {
       "output_type": "stream",
       "stream": "stdout",
       "text": [
        "Cancer: melanoma\n",
        "2014-08-26 14:40:22,096 INFO sqlalchemy.engine.base.Engine SELECT cancersynonyms.created_at AS cancersynonyms_created_at, cancersynonyms.id AS cancersynonyms_id, cancersynonyms.synonym AS cancersynonyms_synonym, cancersynonyms.cancer_id AS cancersynonyms_cancer_id \n",
        "FROM cancersynonyms \n",
        "WHERE ? = cancersynonyms.cancer_id\n"
       ]
      },
      {
       "output_type": "stream",
       "stream": "stderr",
       "text": [
        "INFO:sqlalchemy.engine.base.Engine:SELECT cancersynonyms.created_at AS cancersynonyms_created_at, cancersynonyms.id AS cancersynonyms_id, cancersynonyms.synonym AS cancersynonyms_synonym, cancersynonyms.cancer_id AS cancersynonyms_cancer_id \n",
        "FROM cancersynonyms \n",
        "WHERE ? = cancersynonyms.cancer_id\n"
       ]
      },
      {
       "output_type": "stream",
       "stream": "stdout",
       "text": [
        "2014-08-26 14:40:22,096 INFO sqlalchemy.engine.base.Engine (1,)\n"
       ]
      },
      {
       "output_type": "stream",
       "stream": "stderr",
       "text": [
        "INFO:sqlalchemy.engine.base.Engine:(1,)\n"
       ]
      },
      {
       "output_type": "stream",
       "stream": "stdout",
       "text": [
        "Synonyms: skin cancer,another synonym\n"
       ]
      }
     ],
     "prompt_number": 11
    },
    {
     "cell_type": "markdown",
     "metadata": {},
     "source": [
      "####Query the CancerSynonyms table"
     ]
    },
    {
     "cell_type": "code",
     "collapsed": false,
     "input": [
      "synonyms = session.query(CancerSynonyms).all()\n",
      "\n",
      "for synonym in synonyms:\n",
      "    print synonym.cancer.name, synonym.synonym"
     ],
     "language": "python",
     "metadata": {},
     "outputs": [
      {
       "output_type": "stream",
       "stream": "stdout",
       "text": [
        "2014-08-26 14:40:39,721 INFO sqlalchemy.engine.base.Engine SELECT cancersynonyms.created_at AS cancersynonyms_created_at, cancersynonyms.id AS cancersynonyms_id, cancersynonyms.synonym AS cancersynonyms_synonym, cancersynonyms.cancer_id AS cancersynonyms_cancer_id \n",
        "FROM cancersynonyms\n"
       ]
      },
      {
       "output_type": "stream",
       "stream": "stderr",
       "text": [
        "INFO:sqlalchemy.engine.base.Engine:SELECT cancersynonyms.created_at AS cancersynonyms_created_at, cancersynonyms.id AS cancersynonyms_id, cancersynonyms.synonym AS cancersynonyms_synonym, cancersynonyms.cancer_id AS cancersynonyms_cancer_id \n",
        "FROM cancersynonyms\n"
       ]
      },
      {
       "output_type": "stream",
       "stream": "stdout",
       "text": [
        "2014-08-26 14:40:39,722 INFO sqlalchemy.engine.base.Engine ()\n"
       ]
      },
      {
       "output_type": "stream",
       "stream": "stderr",
       "text": [
        "INFO:sqlalchemy.engine.base.Engine:()\n"
       ]
      },
      {
       "output_type": "stream",
       "stream": "stdout",
       "text": [
        "melanoma skin cancer\n",
        "melanoma another synonym\n"
       ]
      }
     ],
     "prompt_number": 12
    },
    {
     "cell_type": "code",
     "collapsed": false,
     "input": [],
     "language": "python",
     "metadata": {},
     "outputs": []
    }
   ],
   "metadata": {}
  }
 ]
}